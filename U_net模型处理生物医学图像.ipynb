{
  "cells": [
    {
      "cell_type": "markdown",
      "metadata": {
        "id": "HsqfxKef_9x8"
      },
      "source": [
        "# 训练模型"
      ]
    },
    {
      "cell_type": "code",
      "source": [
        "from google.colab import drive\n",
        "drive.mount('/content/drive')"
      ],
      "metadata": {
        "id": "FTMTwdyoQswL"
      },
      "execution_count": null,
      "outputs": []
    },
    {
      "cell_type": "code",
      "execution_count": null,
      "metadata": {
        "id": "z0Yqjld__9x_"
      },
      "outputs": [],
      "source": [
        "import sys\n",
        "import platform\n",
        "import os\n",
        "\n",
        "print(\"Python version: {}\".format(sys.version))\n",
        "print(\"{}\".format(platform.platform()))"
      ]
    },
    {
      "cell_type": "code",
      "source": [
        "import tensorflow as tf\n",
        "import sys\n",
        "sys.path.append(\"/content/drive/MyDrive/Unet医学图像分割处理/unet-master/2D\")"
      ],
      "metadata": {
        "id": "LPBoeT0ZQ2Z3"
      },
      "execution_count": null,
      "outputs": []
    },
    {
      "cell_type": "markdown",
      "metadata": {
        "id": "a7NqvV6w_9yB"
      },
      "source": [
        "# 基于U-Net的生物医学图像分割\n",
        "在这个代码示例中，我们应用U-Net架构从原始MRI扫描中分割脑肿瘤，如下所示。只需相对较少的数据，我们就可以训练U-Net模型来准确预测肿瘤存在的位置。\n",
        "\n",
        "我们模型的Dice系数(本研究中使用的BraTS数据集的标准度量)约为0.82-0.88。Menze等人报道说，神经放射专家手动分割这些肿瘤，交叉评分Dice评分为0.75-0.85，这意味着该模型的预测与专家医生的预测一致。"
      ]
    },
    {
      "cell_type": "markdown",
      "metadata": {
        "id": "G-IZRCXB_9yC"
      },
      "source": [
        "\n",
        "\n",
        "# 什么是U-Net?\n",
        "U-Net的设计就像一个自动编码器。它有一个编码路径(“收缩”)与一个解码路径(“展开”)配对，这使它具有“U”形。然而，与自动编码器相比，U-Net预测输入图像的像素分割映射，而不是将输入图像分类为一个整体。对于原始图像中的每个像素，它会问一个问题:“这个像素属于哪个类?”这种灵活性使得U-Net能够同时预测肿瘤的不同部位。"
      ]
    },
    {
      "cell_type": "markdown",
      "metadata": {
        "id": "VBZ7UxwV_9yE"
      },
      "source": [
        "## 开始训练!"
      ]
    },
    {
      "cell_type": "markdown",
      "metadata": {
        "id": "zluRv2TT_9yF"
      },
      "source": [
        "主要分为4个步骤：\n",
        "1. 加载训练数据\n",
        "1. 定义模型\n",
        "3. 训练模型\n",
        "4. 评估\n",
        "    "
      ]
    },
    {
      "cell_type": "markdown",
      "metadata": {
        "id": "XD-E5s9w_9yF"
      },
      "source": [
        "#### Step 1 : 将BraTS数据集导入"
      ]
    },
    {
      "cell_type": "code",
      "execution_count": null,
      "metadata": {
        "id": "SmQhEaXz_9yF"
      },
      "outputs": [],
      "source": [
        "data_path = \"/content/drive/MyDrive/Unet医学图像分割处理/unet-master/2D/Task01_BrainTumour\"\n",
        "\n",
        "crop_dim=128  # 初始分辨率 (240)\n",
        "batch_size = 128\n",
        "seed=816\n",
        "train_test_split=0.85"
      ]
    },
    {
      "cell_type": "code",
      "execution_count": null,
      "metadata": {
        "id": "Z4ti4DJr_9yF"
      },
      "outputs": [],
      "source": [
        "from dataloader import *\n",
        "\n",
        "trainFiles, validateFiles, testFiles = get_decathlon_filelist(data_path=data_path, seed=seed, split=train_test_split)\n",
        "\n",
        "ds_train = DatasetGenerator(trainFiles,batch_size=batch_size,crop_dim=[crop_dim,crop_dim],seed=seed)\n",
        "\n",
        "ds_validation = DatasetGenerator(validateFiles,batch_size=batch_size,crop_dim=[crop_dim, crop_dim],augment=False,seed=seed)\n",
        "    \n",
        "ds_test = DatasetGenerator(testFiles,batch_size=batch_size,crop_dim=[crop_dim, crop_dim],augment=False,seed=seed)\n"
      ]
    },
    {
      "cell_type": "markdown",
      "metadata": {
        "id": "PBu51VSZ_9yG"
      },
      "source": [
        "## 画出数据集的样例\n",
        "我们可以使用DatasetGenerator的plot_samples函数来绘制数据集的一些样本。注意，当' augment '设置为True时，我们随机裁剪、翻转和旋转图像。"
      ]
    },
    {
      "cell_type": "code",
      "execution_count": null,
      "metadata": {
        "id": "2CL1eVBc_9yG",
        "scrolled": true
      },
      "outputs": [],
      "source": [
        "ds_train.plot_samples()"
      ]
    },
    {
      "cell_type": "code",
      "execution_count": null,
      "metadata": {
        "id": "El5MrL71_9yG"
      },
      "outputs": [],
      "source": [
        "ds_validation.plot_samples()"
      ]
    },
    {
      "cell_type": "markdown",
      "metadata": {
        "id": "UcnAlDQt_9yH"
      },
      "source": [
        "#### Step 2: 定义模型"
      ]
    },
    {
      "cell_type": "code",
      "execution_count": null,
      "metadata": {
        "id": "nszX8qBO_9yH"
      },
      "outputs": [],
      "source": [
        "from model import unet\n",
        "\n",
        "print(\"-\" * 30)\n",
        "print(\"创建和编译模型中···\")\n",
        "print(\"-\" * 30)\n",
        "\n",
        "unet_model = unet(fms=8, learning_rate=1e-4, use_dropout=False, use_upsampling=False)\n",
        "\n",
        "model = unet_model.create_model(\n",
        "        ds_train.get_input_shape(), \n",
        "        ds_train.get_output_shape())\n",
        "\n",
        "model_filename, model_callbacks = unet_model.get_callbacks()\n",
        "\n",
        "#  如果有当前保存的文件，则加载权重并从那里开始。\n",
        "# saved_model = os.path.join(args.output_path, args.inference_filename)\n",
        "# if os.path.isfile(saved_model):\n",
        "#     model.load_weights(saved_model)"
      ]
    },
    {
      "cell_type": "code",
      "execution_count": null,
      "metadata": {
        "id": "14Vuo3xD_9yH"
      },
      "outputs": [],
      "source": [
        "from tensorflow.keras.utils import plot_model\n",
        "from IPython.display import Image\n",
        "\n",
        "plot_model(model,to_file='/content/drive/MyDrive/Unet医学图像分割处理/unet-master/2D/images/model1.png',show_shapes=True,show_layer_names=True,rankdir='TB')\n",
        "Image('/content/drive/MyDrive/Unet医学图像分割处理/unet-master/2D/images/model1.png')"
      ]
    },
    {
      "cell_type": "markdown",
      "metadata": {
        "id": "WWrAflSQ_9yI"
      },
      "source": [
        "#### Step 3: 训练模型"
      ]
    },
    {
      "cell_type": "code",
      "execution_count": null,
      "metadata": {
        "id": "DZTSCkld_9yI"
      },
      "outputs": [],
      "source": [
        "import datetime\n",
        "\n",
        "start_time = datetime.datetime.now()\n",
        "print(\"Training started at {}\".format(start_time))\n",
        "\n",
        "n_epoch = 2  # Train for this many epochs\n",
        "\n",
        "history = model.fit(ds_train,\n",
        "              epochs=n_epoch,\n",
        "              validation_data=ds_validation,\n",
        "              verbose=1,\n",
        "              callbacks=model_callbacks)\n",
        "\n",
        "print(\"Total time elapsed for training = {} seconds\".format(datetime.datetime.now() - start_time))\n",
        "print(\"Training finished at {}\".format(datetime.datetime.now()))\n",
        "    \n",
        "# Append training log\n",
        "# with open(\"training.log\",\"a+\") as fp:\n",
        "#     fp.write(\"{}: {}\\n\".format(datetime.datetime.now(),\n",
        "#                              history.history[\"val_dice_coef\"]))"
      ]
    },
    {
      "cell_type": "markdown",
      "metadata": {
        "id": "pm2EMUMD_9yI"
      },
      "source": [
        "#### Step 4: 评估模型"
      ]
    },
    {
      "cell_type": "code",
      "execution_count": null,
      "metadata": {
        "id": "mMqy4bsO_9yI"
      },
      "outputs": [],
      "source": [
        "print(\"-\" * 30)\n",
        "print(\"加载训练最好的模型······\")\n",
        "print(\"-\" * 30)\n",
        "unet_model.evaluate_model(model_filename,ds_test)"
      ]
    },
    {
      "cell_type": "code",
      "source": [
        "model.save('/content/drive/MyDrive/复现Unet医学图像分割处理/output')"
      ],
      "metadata": {
        "id": "yIINlGJucIUn"
      },
      "execution_count": null,
      "outputs": []
    },
    {
      "cell_type": "code",
      "source": [],
      "metadata": {
        "id": "RtLFLLdgjjcP"
      },
      "execution_count": null,
      "outputs": []
    }
  ],
  "metadata": {
    "colab": {
      "private_outputs": true,
      "provenance": []
    },
    "kernelspec": {
      "display_name": "Python 3",
      "language": "python",
      "name": "python3"
    },
    "language_info": {
      "codemirror_mode": {
        "name": "ipython",
        "version": 3
      },
      "file_extension": ".py",
      "mimetype": "text/x-python",
      "name": "python",
      "nbconvert_exporter": "python",
      "pygments_lexer": "ipython3",
      "version": "3.7.10"
    },
    "accelerator": "GPU",
    "gpuClass": "standard"
  },
  "nbformat": 4,
  "nbformat_minor": 0
}